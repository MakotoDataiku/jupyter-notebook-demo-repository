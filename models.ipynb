{
 "cells": [
  {
   "cell_type": "code",
   "execution_count": 1,
   "source": [
    "import numpy as np # linear algebra\n",
    "import pandas as pd # data processing, CSV file I/O (e.g. pd.read_csv)\n",
    "#%matplotlib inline\n",
    "import pandas as pd\n",
    "import matplotlib.pyplot as plt\n",
    "import seaborn as sns\n",
    "from sklearn.model_selection import train_test_split\n",
    "from ml_metrics import rmse\n",
    "import pickle\n",
    "from sklearn.linear_model import LinearRegression"
   ],
   "outputs": [],
   "metadata": {}
  },
  {
   "cell_type": "code",
   "execution_count": 2,
   "source": [
    "df_train = pd.read_csv('train.csv')\n",
    "df_test = pd.read_csv('test.csv')"
   ],
   "outputs": [],
   "metadata": {}
  },
  {
   "cell_type": "code",
   "execution_count": 3,
   "source": [
    "#Filter for quantative features\n",
    "quant =[f for f in df_train.columns if df_train.dtypes[f]!=(\"object\")]\n",
    "#Remove Id and SalesPrice\n",
    "quant.remove('SalePrice')\n",
    "quant.remove('Id')\n",
    "\n",
    "#Filter for Qualitative\n",
    "qualt =[f for f in df_train.columns if df_train.dtypes[f]==(\"object\")]"
   ],
   "outputs": [],
   "metadata": {}
  },
  {
   "cell_type": "code",
   "execution_count": 4,
   "source": [
    "df_quant = df_train[quant]"
   ],
   "outputs": [],
   "metadata": {}
  },
  {
   "cell_type": "code",
   "execution_count": 5,
   "source": [
    "df_for_heatmap = df_quant.copy()\n",
    "df_for_heatmap['SalePrice'] = df_train['SalePrice']"
   ],
   "outputs": [],
   "metadata": {}
  },
  {
   "cell_type": "code",
   "execution_count": 6,
   "source": [
    "df_2=df_for_heatmap.drop(columns=['1stFlrSF'])"
   ],
   "outputs": [],
   "metadata": {}
  },
  {
   "cell_type": "code",
   "execution_count": 7,
   "source": [
    "def SelectHighlyCorr_withTarget(df,corr):\n",
    "    #return df with only high correlated features\n",
    "    #Getting all correlations\n",
    "    cor = df.corr()\n",
    "    #Correlations with target\n",
    "    cor_target = abs(cor[\"SalePrice\"])\n",
    "    relevant_features = cor_target[cor_target>=corr]\n",
    "\n",
    "    rl = df_for_heatmap[relevant_features.index]\n",
    "    \n",
    "    return rl\n",
    "\n",
    "df_3=SelectHighlyCorr_withTarget(df_2,0.1)"
   ],
   "outputs": [],
   "metadata": {}
  },
  {
   "cell_type": "code",
   "execution_count": 8,
   "source": [
    "#sns.heatmap(df_3.corr(), cmap ='RdYlGn', linewidths = 0.2, annot = True)\n",
    "#fig=plt.gcf()\n",
    "#fig.set_size_inches(25,25)\n",
    "#plt.show()"
   ],
   "outputs": [],
   "metadata": {}
  },
  {
   "cell_type": "code",
   "execution_count": 9,
   "source": [
    "## Final Train df\n",
    "final_train = df_3.copy()\n",
    "final_train.drop(columns=['SalePrice'],inplace=True)"
   ],
   "outputs": [],
   "metadata": {}
  },
  {
   "cell_type": "code",
   "execution_count": 10,
   "source": [
    "# filling NA\n",
    "def fillingNA(df):\n",
    "    df2 = df.fillna(final_train.median())\n",
    "    return df2\n",
    "\n",
    "final_train = fillingNA(final_train)"
   ],
   "outputs": [],
   "metadata": {}
  },
  {
   "cell_type": "code",
   "execution_count": 11,
   "source": [
    "#Splitting data\n",
    "#Final train is the final dataframe with removal of uneeded features\n",
    "cols_to_select = final_train.columns\n",
    "y = df_train['SalePrice']\n",
    "x_train, x_validation, y_train, y_validation = train_test_split(final_train , y ,  train_size=0.8, test_size=0.2, random_state =20)\n",
    "\n",
    "#Model\n",
    "model = LinearRegression()\n",
    "model.fit(x_train, y_train)\n",
    "\n",
    "#Prediction\n",
    "y_train_predicted = model.predict(x_train) #RMSE on train\n",
    "y_valid_predicted = model.predict(x_validation) #RMSE on validation\n",
    "\n",
    "\n",
    "#Metric (RMSE)\n",
    "rmse_train = rmse(y_train,y_train_predicted)\n",
    "rmse_val = rmse(y_validation,y_valid_predicted)\n",
    "print(\"The RMSE on train is : \",rmse(y_train,y_train_predicted))\n",
    "print(\"The RMSE on Validation is : \",rmse(y_validation,y_valid_predicted))"
   ],
   "outputs": [
    {
     "output_type": "stream",
     "name": "stdout",
     "text": [
      "The RMSE on train is :  32981.38358511505\n",
      "The RMSE on Validation is :  28974.74048634289\n"
     ]
    }
   ],
   "metadata": {}
  },
  {
   "cell_type": "code",
   "execution_count": 12,
   "source": [
    "filename = 'final_model.sav'\n",
    "pickle.dump(model, open(filename, 'wb'))"
   ],
   "outputs": [],
   "metadata": {}
  },
  {
   "cell_type": "code",
   "execution_count": 14,
   "source": [
    "final_test_2 = df_test[cols_to_select]\n",
    "# filling NA\n",
    "\n",
    "final_test_2 = fillingNA(final_test_2)\n",
    "# final_test=SelectHighlyCorr_withTarget(final_test,0.5)\n",
    "\n",
    "\n",
    "y_pred_test_file = model.predict(final_test_2)\n",
    "submission  = pd.DataFrame()\n",
    "submission['Id']=df_test['Id']\n",
    "submission[\"SalePrice\"]=y_pred_test_file\n",
    "# submission.info()\n",
    "submission.to_csv('test_scored.csv', index=False) "
   ],
   "outputs": [],
   "metadata": {}
  }
 ],
 "metadata": {
  "orig_nbformat": 4,
  "language_info": {
   "name": "python",
   "version": "3.6.8",
   "mimetype": "text/x-python",
   "codemirror_mode": {
    "name": "ipython",
    "version": 3
   },
   "pygments_lexer": "ipython3",
   "nbconvert_exporter": "python",
   "file_extension": ".py"
  },
  "kernelspec": {
   "name": "python3",
   "display_name": "Python 3.6.8 64-bit"
  },
  "interpreter": {
   "hash": "6641baa4cf501f01b8bcb57cfa10294482642f37c29bb6010ea9ca128065d42c"
  }
 },
 "nbformat": 4,
 "nbformat_minor": 2
}